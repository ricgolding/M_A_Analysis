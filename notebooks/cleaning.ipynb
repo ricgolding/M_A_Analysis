{
 "cells": [
  {
   "cell_type": "code",
   "execution_count": null,
   "id": "d86434d0-b45c-463a-a8b0-5d4cd11cc1fc",
   "metadata": {},
   "outputs": [],
   "source": [
    "import pandas as pd\n",
    "import matplotlib.pyplot as plt\n",
    "import seaborn as sns\n",
    "import numpy as np\n",
    "import functions as f\n",
    "from datetime import datetime\n",
    "from functions import FinancialModelingPrepAPI\n",
    "from functions import fmp"
   ]
  },
  {
   "cell_type": "markdown",
   "id": "c365029a-897b-4c9f-94cc-5f1123c6cf2b",
   "metadata": {},
   "source": [
    "## Cleaning M&A DataFrame from tracxn"
   ]
  },
  {
   "cell_type": "markdown",
   "id": "73c62ed0-337b-4d62-af90-3ca4b5bffb51",
   "metadata": {},
   "source": [
    "Data Source:\n",
    "https://platform.tracxn.com/a/s/query/t/acquisitions/t/keyacquisitions/table?h=ae589626746705942b5192987ba318555231c920e4537a5b816faa99c9ea5a97&s=sort%3DannouncementDate%7Corder%3DDEFAULT#%7CchartString%3Dview_acquisitionTransactions_acquisitionRoundDate--yearly%2524acquisitiontransactionNormalizedAmount--median--none--none--bar--linear--left--hide%2524numberOfAcquisitions--count--none--none--line--linear--right--hide%7CleaderBoardCompanyType%3DActive"
   ]
  },
  {
   "cell_type": "code",
   "execution_count": null,
   "id": "63e45c7d-83fc-487d-a2c4-08dec8f44ffa",
   "metadata": {},
   "outputs": [],
   "source": [
    "ma = pd.read_excel('../data/raw/ma-activity-tracxn.xlsx', sheet_name=\"Acquisitions 1.1\")\n",
    "\n",
    "display(ma.head(15))"
   ]
  },
  {
   "cell_type": "code",
   "execution_count": null,
   "id": "a03b110b-105c-4748-bac4-93b67a7bf98a",
   "metadata": {},
   "outputs": [],
   "source": [
    "#Cleaning Headers and rows\n",
    "ma.columns = [\n",
    "    \"serial_no\", \"acquisition_date\", \"acquisition_type\", \"acquired_company\",\n",
    "    \"acquired_company_domain\", \"acquirer\", \"sellers\", \"acquisition_facilitators\",\n",
    "    \"stake_acquired\", \"acquisition_price_usd\", \"valuation_usd\", \"acquisition_multiple\",\n",
    "    \"is_key_acquisition\", \"founded_year\", \"location\", \"total_funding_usd\", \"company_details_overview\", \"business_model\"\n",
    "]\n",
    "ma.drop(index=ma.index[:7], axis=0, inplace=True)\n",
    "ma.drop(columns=ma.columns[0], inplace=True)\n",
    "ma.drop(columns=['sellers','acquisition_facilitators','stake_acquired','valuation_usd','acquisition_multiple','total_funding_usd','business_model'],inplace=True)"
   ]
  },
  {
   "cell_type": "code",
   "execution_count": null,
   "id": "2744c3cf-ea47-4cf9-bf38-a97c0c55cc87",
   "metadata": {},
   "outputs": [],
   "source": [
    "#disclosed acquisition amounts flag\n",
    "\n",
    "ma['disclosed'] = ma['acquisition_price_usd'].apply(lambda x: 0 if x == 0 else 1)\n",
    "\n",
    "#Adjusting null values for acquisition prices based on bloomberg and other sources\n",
    "\n",
    "ma.at[15, 'acquisition_price_usd'] = 1700000000\n",
    "ma.at[16, 'acquisition_price_usd'] = 0\n",
    "ma.at[19, 'acquisition_price_usd'] = 700000000\n",
    "ma.at[22, 'acquisition_price_usd'] = 400000000\n",
    "ma.at[23, 'acquisition_price_usd'] = 1650000000\n",
    "ma.at[33, 'acquisition_price_usd'] = 400000000\n",
    "ma.at[34, 'acquisition_price_usd'] = 0\n",
    "ma.at[52, 'acquisition_price_usd'] = 35000000\n",
    "ma.at[82, 'acquisition_price_usd'] = 1500000000"
   ]
  },
  {
   "cell_type": "code",
   "execution_count": null,
   "id": "c0aacbae-7376-422b-a84e-7db9af85fe69",
   "metadata": {},
   "outputs": [],
   "source": [
    "#adding missing acquisition date\n",
    "ma['acquisition_date'] = ma['acquisition_date'].fillna(datetime(2002, 1, 1))"
   ]
  },
  {
   "cell_type": "code",
   "execution_count": null,
   "id": "8ea6045b-f626-45cf-a9d8-ef24f46d5997",
   "metadata": {},
   "outputs": [],
   "source": [
    "#Fixing datatyes\n",
    "ma[\"acquisition_date\"] = pd.to_datetime(ma[\"acquisition_date\"], errors=\"coerce\", format='mixed')\n",
    "ma[\"acquisition_price_usd\"] = (ma[\"acquisition_price_usd\"].astype(float))\n",
    "ma['founded_year'] = ma['founded_year'].astype(int)\n",
    "ma['is_key_acquisition'] = ma['is_key_acquisition'].astype(bool)\n",
    "\n",
    "ma.reset_index(drop=True, inplace=True)"
   ]
  },
  {
   "cell_type": "code",
   "execution_count": null,
   "id": "b7e2f647-5ccb-466f-a844-d948c0eafeec",
   "metadata": {},
   "outputs": [],
   "source": [
    "#Check for null values\n",
    "\n",
    "ma.isna().sum()"
   ]
  },
  {
   "cell_type": "code",
   "execution_count": null,
   "id": "31e3db57-905e-4e6b-80a6-95c0f9b22b26",
   "metadata": {},
   "outputs": [],
   "source": [
    "ma.dtypes"
   ]
  },
  {
   "cell_type": "code",
   "execution_count": null,
   "id": "e9afab3c-f656-49ce-b550-71e477a168e6",
   "metadata": {},
   "outputs": [],
   "source": [
    "ma['acquirer'].value_counts()"
   ]
  },
  {
   "cell_type": "code",
   "execution_count": null,
   "id": "6bc71f5d-c9ef-4478-a55d-b798c53cc357",
   "metadata": {},
   "outputs": [],
   "source": [
    "#adjusting company naming conventions\n",
    "company_list = ['Berkshire Hathaway', 'BlackRock', 'Goldman Sachs', 'JPMorgan Chase', 'State Street']\n",
    "\n",
    "company_map = {\n",
    "    \"JP Morgan\": \"JPMorgan Chase\",\n",
    "    \"J P Morgan\": \"JPMorgan Chase\",\n",
    "    \"JP Morgan Chase\": \"JPMorgan Chase\",\n",
    "    \"State St\": \"State Street\",\n",
    "    \"Goldman\": \"Goldman Sachs\",\n",
    "    \"Black Rock\": \"BlackRock\",\n",
    "    \"Berkshire\": \"Berkshire Hathaway\"\n",
    "}\n",
    "\n",
    "ma['acquirer'] = ma['acquirer'].apply(lambda x: company_map.get(x.strip(), x) if x.strip() in company_list or x.strip() in company_map else company_list[0])\n",
    "ma['acquirer'].value_counts()"
   ]
  },
  {
   "cell_type": "code",
   "execution_count": null,
   "id": "99fe2cf8-0909-4ba5-970b-9a73688f7aa5",
   "metadata": {},
   "outputs": [],
   "source": [
    "#Industry mapping\n",
    "company_industries = {\n",
    "    \"ADT\": \"Security Services\",\n",
    "    \"Akaysha Energy\": \"Energy\",\n",
    "    \"Kinder Morgan\": \"Energy\",\n",
    "    \"PCC Energy Group\": \"Energy\",\n",
    "    \"Yongxin Energy\": \"Energy\",\n",
    "    \"Alleghany\": \"Insurance\",\n",
    "    \"Applied Underwriters\": \"Insurance\",\n",
    "    \"Berkshire Hathaway GUARD Insurance\": \"Insurance\",\n",
    "    \"GEICO\": \"Insurance\",\n",
    "    \"Markel Corporation\": \"Insurance\",\n",
    "    \"USI\": \"Insurance\",\n",
    "    \"Aperio\": \"Investment & Financial Services\",\n",
    "    \"Bear Stearns Companies\": \"Investment & Financial Services\",\n",
    "    \"HPS Investment Partners\": \"Investment & Financial Services\",\n",
    "    \"NN Investment Partners\": \"Investment & Financial Services\",\n",
    "    \"Preqin\": \"Investment & Financial Services\",\n",
    "    \"United Capital\": \"Investment & Financial Services\",\n",
    "    \"Washington Mutual\": \"Investment & Financial Services\",\n",
    "    \"iShares\": \"Investment & Financial Services\",\n",
    "    \"Aramark\": \"Food & Beverage\",\n",
    "    \"Hearthside Food Solutions\": \"Food & Beverage\",\n",
    "    \"Heinz\": \"Food & Beverage\",\n",
    "    \"DQ\": \"Food & Beverage\",\n",
    "    \"Burger King\": \"Food & Beverage\",\n",
    "    \"AssuraMed\": \"Medical & Healthcare\",\n",
    "    \"Biomet\": \"Medical & Healthcare\",\n",
    "    \"Capital Vision Services\": \"Medical & Healthcare\",\n",
    "    \"Charles River\": \"Medical & Healthcare\",\n",
    "    \"Icon Cancer Care\": \"Medical & Healthcare\",\n",
    "    \"InstaMed\": \"Medical & Healthcare\",\n",
    "    \"Passport Health Communication\": \"Medical & Healthcare\",\n",
    "    \"Boyd Corporation\": \"Manufacturing\",\n",
    "    \"IMC Group\": \"Manufacturing\",\n",
    "    \"MiTek Industries\": \"Building & Materials\",\n",
    "    \"Scott Fetzer\": \"Manufacturing\",\n",
    "    \"Precision Castparts Corp\": \"Manufacturing\",\n",
    "    \"Sigma Electric\": \"Manufacturing\",\n",
    "    \"BUT\": \"Retail\",\n",
    "    \"Louis\": \"Retail\",\n",
    "    \"DSD\": \"Retail\",\n",
    "    \"Oriental Trading\": \"Retail\",\n",
    "    \"Cachematrix\": \"Technology & Software\",\n",
    "    \"Clarity Money\": \"Technology & Software\",\n",
    "    \"FutureAdvisor\": \"Technology & Software\",\n",
    "    \"Mercatus\": \"Technology & Software\",\n",
    "    \"Nutmeg\": \"Technology & Software\",\n",
    "    \"Solera\": \"Technology & Software\",\n",
    "    \"SunGard\": \"Technology & Software\",\n",
    "    \"eFront\": \"Technology & Software\",\n",
    "    \"Dominion Enterprises\": \"Media & Entertainment\",\n",
    "    \"Endemol Shine Group\": \"Media & Entertainment\",\n",
    "    \"The Infatuation\": \"Media & Entertainment\",\n",
    "    \"Universal Studios Japan\": \"Media & Entertainment\",\n",
    "    \"FlightSafety\": \"Aerospace & Aviation\",\n",
    "    \"Hawker Beechcraft Corporation\": \"Aerospace & Aviation\",\n",
    "    \"NetJets\": \"Aerospace & Aviation\",\n",
    "    \"PCC Aerostructures\": \"Aerospace Components\",\n",
    "    \"Johns Manville\": \"Building & Materials\",\n",
    "    \"Lubrizol\": \"Building & Materials\",\n",
    "    \"Cooper Standard\": \"Automotive & Transportation\",\n",
    "    \"Kenan Advantage Group\": \"Automotive & Transportation\",\n",
    "    \"McClain Trucking Company\": \"Automotive & Transportation\",\n",
    "    \"XTRA Lease\": \"Automotive & Transportation\",\n",
    "    \"CityFibre\": \"Telecommunications\",\n",
    "    \"Unison Site Management\": \"Telecommunications\",\n",
    "    \"Kahoot\": \"Education\",\n",
    "    \"TransUnion\": \"Banking & Credit Services\",\n",
    "    \"Gen Re\": \"Reinsurance\",\n",
    "    \"Neovia Logistics\": \"Logistics & Fleet Management\",\n",
    "    \"LeasePlan\": \"Logistics & Fleet Management\",\n",
    "    \"BNSF Railway\": \"Railroad Transportation\",\n",
    "    \"Bloomspot\": \"Marketing & Advertising\",\n",
    "    \"CIFA\": \"Construction Equipment\",\n",
    "    \"Carver Korea\": \"Cosmetics & Personal Care\",\n",
    "    \"Chore Time Brocks\": \"Agriculture & Farming Equipment\",\n",
    "    \"Clayton Homes\": \"Housing & Real Estate\",\n",
    "    \"Cofense\": \"Cybersecurity\",\n",
    "    \"Currenex\": \"Financial Services\",\n",
    "    \"GreenSky\": \"Financial Services\",\n",
    "    \"Ipreo\": \"Financial Services\",\n",
    "    \"WePay\": \"Financial Services\",\n",
    "    \"SLK\": \"Financial Services\",\n",
    "    \"bear.com\": \"Financial Services\",\n",
    "    \"Global Infrastructure Partners\": \"Infrastructure Investment\",\n",
    "    \"H.H. Brown\": \"Footwear & Apparel\",\n",
    "    \"ISS FS Integrated Solutions\": \"Facility Services\",\n",
    "    \"Nalco\": \"Chemical Manufacturing\",\n",
    "    \"Pilot Flying J\": \"Travel & Fuel Services\",\n",
    "    \"The Marmon Group\": \"Diversified Industrial\",\n",
    "    \"Vastera\": \"Trade & Supply Chain Management\"\n",
    "}\n",
    "\n",
    "\n",
    "\n",
    "ma['industry'] = ma['acquired_company'].map(company_industries).fillna('Unknown')"
   ]
  },
  {
   "cell_type": "code",
   "execution_count": null,
   "id": "175690a2-340c-4bdc-bf0e-1dab117da4c2",
   "metadata": {},
   "outputs": [],
   "source": [
    "#Fix datatypes\n",
    "ma['founded_year'] = ma['founded_year'].astype(int)\n",
    "ma[\"acquisition_date\"] = pd.to_datetime(ma[\"acquisition_date\"], errors=\"coerce\", format='mixed')\n",
    "ma['acquisition_year'] = ma['acquisition_date'].dt.year\n",
    "\n",
    "#Defined matured company if it has been in business for over a decade\n",
    "ma['matured'] = ma.apply(lambda row: 1 if (row['acquisition_year'] - row['founded_year']) > 10 else 0, axis=1)\n",
    "ma['matured'] = ma['matured'].astype(bool)"
   ]
  },
  {
   "cell_type": "code",
   "execution_count": null,
   "id": "3bc1fa65-5cbe-41f9-95e2-d63d2f8ae20c",
   "metadata": {},
   "outputs": [],
   "source": [
    "#added acquired company size and acquisition price in billions\n",
    "ma['acquisition_price_usd_billions'] = round(ma['acquisition_price_usd'] / 1e9,2)\n",
    "ma['acquired_company_size'] = ma['acquisition_price_usd_billions'].apply(lambda size: 'Large' if size >= 0.5 \n",
    "                                                                               else 'Medium' if 0.1 <= size < 0.5\n",
    "                                                                               else 'Small')\n"
   ]
  },
  {
   "cell_type": "code",
   "execution_count": null,
   "id": "91ab7f20-26e4-42ea-ac70-b7bbae42e2b3",
   "metadata": {},
   "outputs": [],
   "source": [
    "#Dropping duplicate row\n",
    "ma.drop(59, axis=0, inplace=True)"
   ]
  },
  {
   "cell_type": "code",
   "execution_count": null,
   "id": "853c0bc0-8013-48f2-bad8-e89849c71151",
   "metadata": {},
   "outputs": [],
   "source": [
    "#Dividing \n",
    "ma['city'] = ma['location'].apply(lambda x: x.split(',')[0])\n",
    "ma['state_province_region'] = ma['location'].apply(lambda x: x.split(',')[1])\n",
    "ma['country'] = ma['location'].apply(lambda x: x.split(',')[-1])\n",
    "ma.drop(columns='location',inplace=True)\n",
    "ma"
   ]
  },
  {
   "cell_type": "markdown",
   "id": "eda3aa4e-8b91-42f7-a964-0478497524ae",
   "metadata": {},
   "source": [
    "## Cleaning Company Related Data from Financial Modeling Prep API"
   ]
  },
  {
   "cell_type": "markdown",
   "id": "754e69d0-0a20-485d-9794-bc51ca17f7ee",
   "metadata": {},
   "source": [
    "Data source:\n",
    "\n",
    "https://site.financialmodelingprep.com/developer/docs"
   ]
  },
  {
   "cell_type": "code",
   "execution_count": null,
   "id": "5ad4c09e-12ad-4461-9c28-c69ead8deeb5",
   "metadata": {},
   "outputs": [],
   "source": [
    "# List of companies and correct tickers\n",
    "companies = {\n",
    "    \"BlackRock\": \"BLK\",\n",
    "    \"Berkshire Hathaway\": \"BRK-B\",\n",
    "    \"Goldman Sachs\": \"GS\",\n",
    "    \"JPMorgan Chase\": \"JPM\",\n",
    "    \"State Street\": \"STT\"\n",
    "}\n",
    "\n",
    "# Fetch Income Statements\n",
    "blk_income = fmp.get_income_statement(companies[\"BlackRock\"])\n",
    "brka_income = fmp.get_income_statement(companies[\"Berkshire Hathaway\"])\n",
    "gs_income = fmp.get_income_statement(companies[\"Goldman Sachs\"])\n",
    "jpm_income = fmp.get_income_statement(companies[\"JPMorgan Chase\"])\n",
    "stt_income = fmp.get_income_statement(companies[\"State Street\"])\n",
    "\n",
    "# Fetch Stock Quotes\n",
    "blk_stock = fmp.get_stock_quote(companies[\"BlackRock\"])\n",
    "brka_stock = fmp.get_stock_quote(companies[\"Berkshire Hathaway\"])\n",
    "gs_stock = fmp.get_stock_quote(companies[\"Goldman Sachs\"])\n",
    "jpm_stock = fmp.get_stock_quote(companies[\"JPMorgan Chase\"])\n",
    "stt_stock = fmp.get_stock_quote(companies[\"State Street\"])\n",
    "\n",
    "# Fetch Company Profiles\n",
    "blk_profile = fmp.get_company_profile(companies[\"BlackRock\"])\n",
    "brka_profile = fmp.get_company_profile(companies[\"Berkshire Hathaway\"])\n",
    "gs_profile = fmp.get_company_profile(companies[\"Goldman Sachs\"])\n",
    "jpm_profile = fmp.get_company_profile(companies[\"JPMorgan Chase\"])\n",
    "stt_profile = fmp.get_company_profile(companies[\"State Street\"])"
   ]
  },
  {
   "cell_type": "code",
   "execution_count": null,
   "id": "11f541e4-32c2-4adf-acf7-9fffa577ce83",
   "metadata": {},
   "outputs": [],
   "source": [
    "# Convert Stock Quotes to DataFrames\n",
    "blk_stock = f.safe_df_conversion(blk_stock)\n",
    "brka_stock = f.safe_df_conversion(brka_stock)\n",
    "gs_stock = f.safe_df_conversion(gs_stock)\n",
    "jpm_stock = f.safe_df_conversion(jpm_stock)\n",
    "stt_stock = f.safe_df_conversion(stt_stock)\n",
    "\n",
    "# Convert Company Profiles to DataFrames\n",
    "blk_profile = f.safe_df_conversion(blk_profile)\n",
    "brka_profile = f.safe_df_conversion(brka_profile)\n",
    "gs_profile = f.safe_df_conversion(gs_profile)\n",
    "jpm_profile = f.safe_df_conversion(jpm_profile)\n",
    "stt_profile = f.safe_df_conversion(stt_profile)"
   ]
  },
  {
   "cell_type": "code",
   "execution_count": null,
   "id": "d7f49991-c74c-4726-893c-3697ed33706d",
   "metadata": {},
   "outputs": [],
   "source": [
    "#Concat income statements\n",
    "income_list = [blk_income, brka_income, gs_income, jpm_income, stt_income]\n",
    "income_df = pd.concat(income_list)\n",
    "\n",
    "#Concat Stock Quotes\n",
    "stock_quote_list = [blk_stock, brka_stock, gs_stock, jpm_stock, stt_stock]\n",
    "stock_df = pd.concat(stock_quote_list)\n",
    "\n",
    "\n",
    "#Concat Company Profiles\n",
    "profile_list = [blk_profile, brka_profile, gs_profile, jpm_profile, stt_profile]\n",
    "profile_df = pd.concat(profile_list)"
   ]
  },
  {
   "cell_type": "code",
   "execution_count": null,
   "id": "4b23778f-71a1-4722-9e53-30544224e3e2",
   "metadata": {},
   "outputs": [],
   "source": [
    "#Selecting only relevant columns\n",
    "income_df = income_df[['date', 'symbol', 'revenue', 'grossProfit', 'operatingIncome', 'netIncome', 'eps']]\n",
    "stock_df = stock_df[['symbol', 'name', 'price', 'changesPercentage', 'marketCap', 'priceAvg50', 'priceAvg200', 'volume', 'eps', 'pe','timestamp']]\n",
    "profile_df = profile_df[['symbol', 'companyName', 'industry', 'sector', 'mktCap', 'ceo', 'country', 'fullTimeEmployees', 'ipoDate']]"
   ]
  },
  {
   "cell_type": "code",
   "execution_count": null,
   "id": "93c386bc-bd24-455b-8d07-dc118f5d6a2f",
   "metadata": {},
   "outputs": [],
   "source": [
    "#changing column name\n",
    "income_df.rename(columns = {'date': 'statement_date'}, inplace=True)\n",
    "stock_df.rename(columns = {'timestamp': 'stock_timestamp'}, inplace=True)"
   ]
  },
  {
   "cell_type": "code",
   "execution_count": null,
   "id": "b7bdab00-03d5-42f0-87c0-700871f99185",
   "metadata": {},
   "outputs": [],
   "source": [
    "#Fixing Datatypes\n",
    "income_df['statement_date'] = pd.to_datetime(income_df['statement_date'])\n",
    "profile_df['fullTimeEmployees'] = profile_df['fullTimeEmployees'].astype(int)\n",
    "stock_df['stock_timestamp'] = pd.to_datetime(stock_df['stock_timestamp'])\n",
    "profile_df['ipoDate'] = pd.to_datetime(profile_df['ipoDate'])"
   ]
  },
  {
   "cell_type": "code",
   "execution_count": null,
   "id": "2a9486fe-a56d-4c48-985a-74adf4d08ae9",
   "metadata": {},
   "outputs": [],
   "source": [
    "company_map = {\n",
    "    'BlackRock, Inc.': 'BlackRock',\n",
    "    'Berkshire Hathaway Inc.': 'Berkshire Hathaway',\n",
    "    'The Goldman Sachs Group, Inc.': 'Goldman Sachs',\n",
    "    'JPMorgan Chase & Co.': 'JPMorgan Chase',\n",
    "    'State Street Corporation': 'State Street'\n",
    "}\n",
    "\n",
    "\n",
    "profile_df['companyName'] = profile_df['companyName'].apply(\n",
    "    lambda x: company_map.get(x.strip(), x.strip()))\n",
    "\n",
    "stock_df['name'] = stock_df['name'].apply(\n",
    "    lambda x: company_map.get(x.strip(), x.strip()))\n",
    "\n",
    "stock_df.rename(columns = {'name':'companyName'}, inplace=True)"
   ]
  },
  {
   "cell_type": "code",
   "execution_count": null,
   "id": "beb511e8-9f26-49b4-bd08-08fc15e41ec3",
   "metadata": {},
   "outputs": [],
   "source": [
    "#Checking data types\n",
    "print('Income Statement Data Types')\n",
    "display(income_df.dtypes)\n",
    "print(\"\\n\")\n",
    "print('Stock Data Types')\n",
    "display(stock_df.dtypes)\n",
    "print(\"\\n\")\n",
    "print('Company Profiles Data Types')\n",
    "display(profile_df.dtypes)\n",
    "print(\"\\n\")"
   ]
  },
  {
   "cell_type": "markdown",
   "id": "25c9887f-6058-42e5-bec6-341d514fe49b",
   "metadata": {},
   "source": [
    "## Saving to CSVs & SQL data export"
   ]
  },
  {
   "cell_type": "code",
   "execution_count": null,
   "id": "59edf5f6-24f4-4df8-b490-b9968518e0f9",
   "metadata": {},
   "outputs": [],
   "source": [
    "#save to csv\n",
    "df_ma = ma\n",
    "\n",
    "df_ma.to_csv('../data/clean/mergers_acquisitions_data.csv', index=False, sep=';', encoding='utf-8')\n",
    "income_df.to_csv('../data/clean/income_statement_data.csv', index=False, sep=';', encoding='utf-8')\n",
    "profile_df.to_csv('../data/clean/profile_data.csv', index=False, sep=';', encoding='utf-8')\n",
    "stock_df.to_csv('../data/clean/stock_data.csv', index=False, sep=';', encoding='utf-8')"
   ]
  },
  {
   "cell_type": "code",
   "execution_count": null,
   "id": "5cb6978e-775b-482e-8edc-f26cd7b8ed6c",
   "metadata": {},
   "outputs": [],
   "source": [
    "#Merge DF based on SQL relationships\n",
    "\n",
    "# Ensure column names are mapped correctly\n",
    "company_col_map = {'acquirer': 'companyName', 'name': 'companyName'}\n",
    "\n",
    "# 1. Merging `mergers_acquisitions` with `companies` (profile_df)\n",
    "merged_ma = df_ma.merge(\n",
    "    profile_df, \n",
    "    left_on='acquirer',\n",
    "    right_on='companyName',  \n",
    "    how='left'\n",
    ")\n",
    "\n",
    "merged_ma = merged_ma.rename(columns={'industry_x': 'industry'})\n",
    "merged_ma = merged_ma.drop(columns='industry_y', errors='ignore')\n",
    "merged_ma = merged_ma.rename(columns={'country_x': 'country'})\n",
    "merged_ma = merged_ma.drop(columns='country_y', errors='ignore')\n",
    "\n",
    "merged_ma = merged_ma[['acquisition_date','acquisition_type','acquired_company','acquired_company_domain','acquirer','acquisition_price_usd','is_key_acquisition','founded_year','company_details_overview','disclosed','industry','acquisition_year','matured','city','state_province_region','country']]\n",
    "\n",
    "# 2. Merging `income_statements` with `companies` (profile_df)\n",
    "merged_income = income_df.merge(\n",
    "    profile_df, \n",
    "    on='symbol',\n",
    "    how='left'\n",
    ")\n",
    "\n",
    "merged_income = merged_income[['symbol','statement_date','revenue','grossProfit','operatingIncome','netIncome','eps']]\n",
    "\n",
    "# 3. Merging `stock_prices` with `companies` (profile_df)\n",
    "merged_stock = stock_df.merge(\n",
    "    profile_df, \n",
    "    left_on='companyName',\n",
    "    right_on='companyName',  \n",
    "    how='left'\n",
    ")\n",
    "\n",
    "\n",
    "merged_stock = merged_stock.rename(columns={'symbol_x': 'symbol'})\n",
    "merged_stock = merged_stock.drop(columns='symbol_y', errors\n",
    "='ignore')\n",
    "\n",
    "merged_stock = merged_stock[['symbol', 'companyName', 'price', 'changesPercentage', 'marketCap', 'priceAvg50', 'priceAvg200', 'volume', 'eps', 'pe', 'stock_timestamp']]\n",
    "merged_stock['stock_timestamp'] = merged_stock['stock_timestamp'].dt.strftime('%Y-%m-%d %H:%M:%S')\n",
    "\n",
    "\n",
    "# Save cleaned CSV files for SQL upload\n",
    "profile_df.to_csv('../sql/data/clean_profiles.csv', index=False, sep=';', encoding='utf-8')\n",
    "merged_ma.to_csv('../sql/data/clean_mergers_acquisitions.csv', index=False, sep=';', encoding='utf-8')\n",
    "merged_income.to_csv('../sql/data/clean_income_statements.csv', index=False, sep=';', encoding='utf-8')\n",
    "merged_stock.to_csv('../sql/data/clean_stock_prices.csv', index=False, sep=';', encoding='utf-8')"
   ]
  }
 ],
 "metadata": {
  "kernelspec": {
   "display_name": "Python 3 (ipykernel)",
   "language": "python",
   "name": "python3"
  },
  "language_info": {
   "codemirror_mode": {
    "name": "ipython",
    "version": 3
   },
   "file_extension": ".py",
   "mimetype": "text/x-python",
   "name": "python",
   "nbconvert_exporter": "python",
   "pygments_lexer": "ipython3",
   "version": "3.12.2"
  }
 },
 "nbformat": 4,
 "nbformat_minor": 5
}
