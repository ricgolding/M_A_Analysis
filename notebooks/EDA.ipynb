{
 "cells": [
  {
   "cell_type": "code",
   "execution_count": null,
   "id": "4d4799cd-beaf-408c-ac25-d54443177861",
   "metadata": {},
   "outputs": [],
   "source": [
    "import pandas as pd\n",
    "import matplotlib.pyplot as plt\n",
    "import numpy as np\n",
    "import seaborn as sns\n",
    "\n",
    "\n",
    "# Load the cleaned datasets\n",
    "df_income = pd.read_csv(\"../data/clean/income_statement_data.csv\", sep=\";\", encoding=\"utf-8\")\n",
    "df_ma = pd.read_csv(\"../data/clean/mergers_acquisitions_data.csv\", sep=\";\", encoding=\"utf-8\")\n",
    "df_profile = pd.read_csv(\"../data/clean/profile_data.csv\", sep=\";\", encoding=\"utf-8\")\n",
    "df_stock = pd.read_csv(\"../data/clean/stock_data.csv\", sep=\";\", encoding=\"utf-8\")"
   ]
  },
  {
   "cell_type": "markdown",
   "id": "3535e5d8-de2c-4434-b5fc-88d59710b3d6",
   "metadata": {},
   "source": [
    "## Initial Data Exploration"
   ]
  },
  {
   "cell_type": "code",
   "execution_count": null,
   "id": "27a9265e-cc2f-4a12-a315-9ee9304afd6c",
   "metadata": {},
   "outputs": [],
   "source": [
    "print(df_income.info()) \n",
    "print(df_ma.info())\n",
    "print(df_profile.info())\n",
    "print(df_stock.info())"
   ]
  },
  {
   "cell_type": "code",
   "execution_count": null,
   "id": "d214dbff-8c3a-412e-8a7e-f4e5208730b7",
   "metadata": {},
   "outputs": [],
   "source": [
    "print(df_income.isnull().sum())\n",
    "print(df_ma.isnull().sum())\n",
    "print(df_profile.isnull().sum())\n",
    "print(df_stock.isnull().sum())"
   ]
  },
  {
   "cell_type": "code",
   "execution_count": null,
   "id": "607edb5b-9301-43e7-81d5-325a7a5e4ee4",
   "metadata": {},
   "outputs": [],
   "source": [
    "print(df_income.describe())\n",
    "print(df_ma.describe())\n",
    "print(df_stock.describe())"
   ]
  },
  {
   "cell_type": "code",
   "execution_count": null,
   "id": "1be7da5e-9731-4c93-8bcf-bb115e99d64b",
   "metadata": {},
   "outputs": [],
   "source": [
    "df_ma['industry'].value_counts()"
   ]
  },
  {
   "cell_type": "code",
   "execution_count": null,
   "id": "27cc8243-aed3-4d6b-bbed-8ebb125a78b3",
   "metadata": {},
   "outputs": [],
   "source": [
    "#Add symbol to df_ma\n",
    "\n",
    "companies = {\n",
    "    \"BlackRock\": \"BLK\",\n",
    "    \"Berkshire Hathaway\": \"BRK-B\",\n",
    "    \"Goldman Sachs\": \"GS\",\n",
    "    \"JPMorgan Chase\": \"JPM\",\n",
    "    \"State Street\": \"STT\"\n",
    "}\n",
    "\n",
    "df_ma['symbol'] = df_ma['acquirer'].map(companies)"
   ]
  },
  {
   "cell_type": "code",
   "execution_count": null,
   "id": "93cdec18-92a4-4e61-852a-027d21713094",
   "metadata": {},
   "outputs": [],
   "source": [
    "df_ma[\"acquisition_date\"] = pd.to_datetime(df_ma[\"acquisition_date\"], errors=\"coerce\", format='mixed')\n",
    "df_ma[\"acquisition_price_usd\"] = (df_ma[\"acquisition_price_usd\"].astype(float))\n",
    "df_ma['founded_year'] = df_ma['founded_year'].astype(int)\n",
    "df_ma['is_key_acquisition'] = df_ma['is_key_acquisition'].astype(bool)"
   ]
  },
  {
   "cell_type": "markdown",
   "id": "dcd470ec-e68a-47da-adfc-0c0a6bbedb87",
   "metadata": {},
   "source": [
    "## Acquisition Trends & Patterns"
   ]
  },
  {
   "cell_type": "markdown",
   "id": "1dc50007-8afa-42c1-a468-909fca695ceb",
   "metadata": {},
   "source": [
    "### How often does BlackRock acquire companies?"
   ]
  },
  {
   "cell_type": "code",
   "execution_count": null,
   "id": "aa4ec195-5981-4452-aa92-c5723dd20003",
   "metadata": {},
   "outputs": [],
   "source": [
    "df_ma['year'] = df_ma['acquisition_date'].dt.year\n",
    "\n",
    "plt.figure(figsize=(12, 6))\n",
    "sns.countplot(data=df_ma, x=\"year\", hue=\"acquirer\", palette=\"tab10\")\n",
    "\n",
    "plt.xlabel(\"Year\")\n",
    "plt.ylabel(\"Number of Mergers & Acquisitions\")\n",
    "plt.title(\"M&A Activity Over Time by Acquirer\")\n",
    "plt.xticks(rotation=45)\n",
    "plt.legend(title=\"Acquirer\", bbox_to_anchor=(1, 1))  # Move legend outside\n",
    "plt.show()"
   ]
  },
  {
   "cell_type": "markdown",
   "id": "97874143-44a4-45e5-8569-f75a7fb139a8",
   "metadata": {},
   "source": [
    "### Does blackrock & its competitors prefer matured companies?"
   ]
  },
  {
   "cell_type": "code",
   "execution_count": null,
   "id": "d494f89c-ef22-4f2a-b4ef-83addd010b24",
   "metadata": {},
   "outputs": [],
   "source": [
    "# Group by acquirer and maturity status, then count occurrences\n",
    "maturity_counts = df_ma.groupby([\"acquirer\", \"matured\"]).size().unstack()\n",
    "\n",
    "# Create a stacked bar chart\n",
    "maturity_counts.plot(kind=\"bar\", stacked=True, figsize=(12, 6), colormap=\"tab10\")\n",
    "\n",
    "# Add labels and title\n",
    "plt.xlabel(\"Acquirer\")\n",
    "plt.ylabel(\"Number of Acquisitions\")\n",
    "plt.title(\"Preference for Matured vs. Non-Matured Companies by Acquirer\")\n",
    "plt.legend([\"Not Matured (<10 years)\", \"Matured (10+ years)\"], title=\"Company Age at Acquisition\")\n",
    "\n",
    "# Rotate x-axis labels for better readability\n",
    "plt.xticks(rotation=45)\n",
    "\n",
    "# Show plot\n",
    "plt.show()"
   ]
  },
  {
   "cell_type": "markdown",
   "id": "525d3b1c-23de-4f06-86ae-dbe477635935",
   "metadata": {},
   "source": [
    "### What Industries does BlackRock and its competitors invest in the most?"
   ]
  },
  {
   "cell_type": "code",
   "execution_count": null,
   "id": "7546e46c-a083-42ed-9299-149bc023272d",
   "metadata": {},
   "outputs": [],
   "source": [
    "plt.figure(figsize=(10, 8))\n",
    "\n",
    "# Create a grouped pie chart (one per acquirer)\n",
    "for acquirer in df_ma[\"acquirer\"].unique():\n",
    "    plt.figure(figsize=(8, 8))\n",
    "    df_subset = df_ma[df_ma[\"acquirer\"] == acquirer]\n",
    "    industry_counts = df_subset['industry'].value_counts()\n",
    "    industry_counts.plot(kind='bar')\n",
    "    \n",
    "    plt.title(f\"Industry Distribution of Acquisitions for {acquirer}\")\n",
    "    plt.xlabel('Industry')\n",
    "    plt.ylabel('Number of Acquisitions')\n",
    "    plt.xticks(rotation=45, ha='right')\n",
    "    plt.grid(axis='y', linestyle='--', alpha=0.7)\n",
    "\n",
    "    plt.show()"
   ]
  },
  {
   "cell_type": "markdown",
   "id": "0add099f-1aed-4569-9674-54c599c0865d",
   "metadata": {},
   "source": [
    "### What's the typical acquisition value?"
   ]
  },
  {
   "cell_type": "code",
   "execution_count": null,
   "id": "99015cf5-2de0-4fef-a182-3391d2f6894c",
   "metadata": {},
   "outputs": [],
   "source": [
    "df_ma['acquisition_price_usd_billions'] = df_ma['acquisition_price_usd'] / 1e9\n",
    "\n",
    "cross_table = df_ma.groupby(\"acquirer\", as_index=False)[\"acquisition_price_usd_billions\"].mean()\n",
    "\n",
    "plt.figure(figsize=(10, 6))\n",
    "sns.barplot(x=\"acquirer\", y=\"acquisition_price_usd_billions\", data=cross_table, palette=\"tab10\")\n",
    "plt.title(\"Average Acquisition Price by Acquirer\")\n",
    "plt.xlabel(\"Acquirer\")\n",
    "plt.ylabel(\"Average Acquisition Price (in billion USD)\")\n",
    "plt.xticks(rotation=45)\n",
    "\n",
    "plt.show()"
   ]
  },
  {
   "cell_type": "markdown",
   "id": "4374ee9c-9c7b-4e6a-a6cc-8c0916e1805b",
   "metadata": {},
   "source": [
    "### What are the top 3 acquired companies by acquisition price?"
   ]
  },
  {
   "cell_type": "code",
   "execution_count": null,
   "id": "4e6ac772-7361-4485-ab9f-f6365b6ef5c8",
   "metadata": {},
   "outputs": [],
   "source": [
    "acquirer_table = df_ma.groupby(['acquirer', 'acquired_company', 'acquisition_year'], as_index=False)['acquisition_price_usd_billions'].sum()\n",
    "# Select the top 3 acquisitions for each acquirer\n",
    "top_acquisitions_per_acquirer = acquirer_table.groupby(\"acquirer\").apply(lambda x: x.nlargest(3, \"acquisition_price_usd_billions\")).reset_index(drop=True)\n",
    "\n",
    "# Create bar plot\n",
    "plt.figure(figsize=(14, 7))\n",
    "ax = sns.barplot(data=top_acquisitions_per_acquirer, \n",
    "                 x=\"acquisition_price_usd_billions\", \n",
    "                 y=\"acquired_company\", \n",
    "                 hue=\"acquirer\", \n",
    "                 palette=\"tab10\")\n",
    "\n",
    "# Rotate x-axis labels for better readability\n",
    "plt.xticks(rotation=90)\n",
    "\n",
    "# Add labels and title\n",
    "plt.title(\"Top 3 Acquisitions by Acquirer\")\n",
    "plt.xlabel(\"Acquisition Price (in Billion USD)\")\n",
    "plt.ylabel(\"Acquired Company\")\n",
    "\n",
    "# Add value labels to bars with the acquisition date\n",
    "for p, (_, row) in zip(ax.patches, top_acquisitions_per_acquirer.iterrows()):\n",
    "    width = p.get_width()  # Get bar width\n",
    "    if width > 0:  # Only annotate if there's data\n",
    "        acquisition_date = row[\"acquisition_year\"]\n",
    "        ax.annotate(f\"${width:,.2f}B ({acquisition_date})\",  \n",
    "                    (p.get_x() + width + 0.2, p.get_y() + p.get_height() / 2),  \n",
    "                    ha='left', va='center', fontsize=9, fontweight='bold', color='black')\n",
    "\n",
    "# Show legend\n",
    "plt.legend(title=\"Acquirer\", bbox_to_anchor=(1, 1))\n",
    "\n",
    "# Display plot\n",
    "plt.show()"
   ]
  },
  {
   "cell_type": "markdown",
   "id": "377d4782-f34b-4879-87fc-1d38cb97c4f8",
   "metadata": {},
   "source": [
    "### Who has the most deployed capital?"
   ]
  },
  {
   "cell_type": "code",
   "execution_count": null,
   "id": "06d8dc1e-547a-402a-b3ac-7f707a94fa82",
   "metadata": {},
   "outputs": [],
   "source": [
    "acquirer_table = df_ma.groupby('acquirer', as_index=False)['acquisition_price_usd_billions'].agg('sum')\n",
    "\n",
    "plt.figure(figsize=(10, 6))\n",
    "sns.barplot(x=\"acquirer\", y=\"acquisition_price_usd_billions\", data=acquirer_table, palette=\"tab10\")\n",
    "plt.title(\"Acquisition Price by Acquirer\")\n",
    "plt.xlabel(\"Acquirer\")\n",
    "plt.ylabel(\"Acquisition Price (in billion USD)\")\n",
    "plt.xticks(rotation=45)\n",
    "\n",
    "plt.show()"
   ]
  },
  {
   "cell_type": "markdown",
   "id": "94bae58a-800b-4fbe-87b9-685226b14d4e",
   "metadata": {},
   "source": [
    "## Financial Strategy & Spending"
   ]
  },
  {
   "cell_type": "markdown",
   "id": "40d6b604-9cb0-47b3-91c4-3ff6f66c4e85",
   "metadata": {},
   "source": [
    "### Is there a relationship between net income and M&A spending?"
   ]
  },
  {
   "cell_type": "code",
   "execution_count": null,
   "id": "79c7052b-923b-42b8-bfb0-5eefb34909cf",
   "metadata": {},
   "outputs": [],
   "source": [
    "ma_counts = df_ma.groupby(\"symbol\").size().reset_index(name=\"num_acquisitions\")\n",
    "\n",
    "#drop duplicates to show only one mark in the graph\n",
    "df_income_latest = df_income.sort_values(by=\"statement_date\", ascending=False).drop_duplicates(subset=[\"symbol\"])\n",
    "\n",
    "df_merged = pd.merge(df_income_latest, ma_counts, left_on=\"symbol\", right_on=\"symbol\", how=\"left\")\n",
    "df_merged.fillna(0, inplace=True)\n",
    "\n",
    "df_merged[\"netIncome_billion\"] = df_merged[\"netIncome\"] / 1e9\n",
    "\n",
    "plt.figure(figsize=(10, 6))\n",
    "sns.scatterplot(\n",
    "    data=df_merged, \n",
    "    x=\"netIncome_billion\", \n",
    "    y=\"num_acquisitions\", \n",
    "    hue=\"symbol\",  \n",
    "    style=\"symbol\",  \n",
    "    palette=\"tab10\",  \n",
    "    s=150  \n",
    ")\n",
    "\n",
    "plt.xscale(\"log\")\n",
    "\n",
    "plt.title(\"Net Income vs. Number of Acquisitions by Company\")\n",
    "plt.xlabel(\"Net INcome (in Billions USD, Log Scale)\")\n",
    "plt.ylabel(\"Number of M&A Deals\")\n",
    "plt.xticks(rotation=45)\n",
    "plt.legend(title=\"Company\", bbox_to_anchor=(1, 1))  \n",
    "\n",
    "plt.show()"
   ]
  },
  {
   "cell_type": "markdown",
   "id": "5b3575db-402c-49a6-b980-5c42c29fa9a2",
   "metadata": {},
   "source": [
    "### Are matured companies more expensive?"
   ]
  },
  {
   "cell_type": "code",
   "execution_count": null,
   "id": "40eda2d2-65fc-4180-a8c7-fd12849396f9",
   "metadata": {},
   "outputs": [],
   "source": [
    "avg_price_per_maturity = df_ma.groupby(\"matured\")[\"acquisition_price_usd_billions\"].mean()\n",
    "\n",
    "# Create a bar plot\n",
    "plt.figure(figsize=(8, 5))\n",
    "sns.barplot(x=avg_price_per_maturity.index, y=avg_price_per_maturity.values, palette=\"coolwarm\")\n",
    "\n",
    "# Add labels\n",
    "plt.xlabel(\"Maturity Status (0 = Non-Matured, 1 = Matured)\")\n",
    "plt.ylabel(\"Average Acquisition Price (in Billions USD)\")\n",
    "plt.title(\"Are Matured Companies More Expensive?\")\n",
    "plt.xticks([0, 1], [\"Not Matured (<10 years)\", \"Matured (10+ years)\"])\n",
    "\n",
    "# Show plot\n",
    "plt.show()"
   ]
  },
  {
   "cell_type": "markdown",
   "id": "3605fc84-4348-4743-b2e0-b0633e7cbedf",
   "metadata": {},
   "source": [
    "### How does BlackRock's M&A spending compare to its market cap?\n",
    "do they make acquisition relative to their financial strength?"
   ]
  },
  {
   "cell_type": "code",
   "execution_count": null,
   "id": "c0c0c432-3ebf-48cb-944b-4d045d6d4b09",
   "metadata": {},
   "outputs": [],
   "source": [
    "# Ensure acquisition price is numeric and convert to billions\n",
    "df_ma[\"acquisition_price_usd\"] = pd.to_numeric(df_ma[\"acquisition_price_usd\"], errors=\"coerce\")\n",
    "df_ma[\"acquisition_price_usd_billions\"] = df_ma[\"acquisition_price_usd\"] / 1e9\n",
    "\n",
    "# Filter acquisitions from 2020 onwards\n",
    "df_ma_recent = df_ma[df_ma[\"acquisition_year\"] >= 2020]\n",
    "\n",
    "# Aggregate M&A spending by year and acquirer\n",
    "ma_spending_by_year = df_ma_recent.groupby([\"acquisition_year\", \"symbol\"])[\"acquisition_price_usd_billions\"].sum().reset_index()\n",
    "ma_spending_by_year.columns = [\"year\", \"symbol\", \"total_ma_spending_billion\"]\n",
    "\n",
    "# Ensure revenue is numeric and convert to billions\n",
    "df_income[\"revenue_billion\"] = df_income[\"revenue\"] / 1e9\n",
    "\n",
    "# Extract financials for relevant years\n",
    "df_income['statement_date'] = pd.to_datetime(df_income[\"statement_date\"], errors=\"coerce\", format='mixed')\n",
    "financials_by_acquirer = df_income.groupby([\"symbol\", df_income[\"statement_date\"].dt.year])[\"revenue_billion\"].mean().reset_index()\n",
    "financials_by_acquirer.columns = [\"symbol\", \"year\", \"revenue_billion\"]\n",
    "\n",
    "# Merge M&A spending with revenue for all acquirers\n",
    "df_analysis = ma_spending_by_year.merge(financials_by_acquirer, on=[\"year\", \"symbol\"], how=\"left\")\n",
    "\n",
    "# Compute key ratio: M&A Spending / Revenue\n",
    "df_analysis[\"ma_spending_to_revenue\"] = df_analysis[\"total_ma_spending_billion\"] / df_analysis[\"revenue_billion\"]\n",
    "\n",
    "# Plot trends with multiple acquirers\n",
    "plt.figure(figsize=(12, 6))\n",
    "for acquirer in df_analysis[\"symbol\"].unique():\n",
    "    subset = df_analysis[df_analysis[\"symbol\"] == acquirer]\n",
    "    plt.plot(subset[\"year\"], subset[\"ma_spending_to_revenue\"], marker=\"o\", label=acquirer)\n",
    "\n",
    "plt.title(\"M&A Spending Relative to Revenue by Acquirer (Since 2020)\")\n",
    "plt.xlabel(\"Year\")\n",
    "plt.ylabel(\"M&A Spending / Revenue Ratio\")\n",
    "plt.legend(title=\"Acquirer\", bbox_to_anchor=(1.05, 1), loc=\"upper left\")\n",
    "plt.grid(True)\n",
    "plt.show()"
   ]
  },
  {
   "cell_type": "markdown",
   "id": "92c56114-b250-4d95-9881-e690f66175a4",
   "metadata": {},
   "source": [
    "1️⃣ BlackRock (BLK) Shows a Significant Spike in 2024\n",
    "\n",
    "BlackRock's M&A spending relative to revenue skyrockets in 2024.\n",
    "This suggests that in 2024, BlackRock allocated a significantly larger portion of its revenue to M&A compared to previous years.\n",
    "Possible reasons:\n",
    "A large acquisition in 2024.\n",
    "A strategic shift in BlackRock’s investment approach.\n",
    "\n",
    "2️⃣ Berkshire Hathaway (BRK-B) Maintains a More Stable Trend\n",
    "\n",
    "Berkshire Hathaway doesn’t show extreme fluctuations, maintaining a steady low M&A-to-revenue ratio.\n",
    "This suggests a more cautious or diversified investment approach, where M&A spending is proportional to its revenue.\n",
    "\n",
    "3️⃣ Goldman Sachs (GS) and JPMorgan Chase (JPM) Have Consistently Low Ratios\n",
    "\n",
    "These companies have much lower M&A spending relative to revenue.\n",
    "This could mean:\n",
    "They prefer organic growth rather than aggressive acquisitions.\n",
    "They make acquisitions in smaller deal sizes.\n",
    "Their core business model is different, focusing on investment banking and financial services rather than heavy M&A activity.\n",
    "\n",
    "4️⃣ State Street (STT) Shows Minimal M&A Activity\n",
    "\n",
    "State Street barely registers on the graph, indicating limited M&A investments relative to revenue.\n",
    "Likely explanation:\n",
    "They prioritize other growth strategies (e.g., asset management expansion, technology investments).\n",
    "They have fewer opportunities or a lower-risk appetite for M&A"
   ]
  },
  {
   "cell_type": "markdown",
   "id": "b14a361d-586d-426f-9059-68761a9aa0e9",
   "metadata": {},
   "source": [
    "### Stock Price Comparison"
   ]
  },
  {
   "cell_type": "code",
   "execution_count": null,
   "id": "a8a3583f-d9fa-4471-a8c9-d55b0c94ce32",
   "metadata": {},
   "outputs": [],
   "source": [
    "df_stock_latest = df_stock.groupby(\"symbol\", as_index=False)[\"price\"].mean()\n",
    "plt.figure(figsize=(10, 6))\n",
    "ax = sns.barplot(data=df_stock_latest, x=\"symbol\", y=\"price\", palette=\"tab10\")\n",
    "for p in ax.patches:\n",
    "    ax.annotate(f\"{p.get_height():,.2f}\", \n",
    "                (p.get_x() + p.get_width() / 2., p.get_height()), \n",
    "                ha='center', va='bottom', fontsize=10, color='black')\n",
    "\n",
    "plt.title(\"Stock Price Comparison of Acquiring Companies\")\n",
    "plt.xlabel(\"Company\")\n",
    "plt.ylabel(\"Stock Price (USD)\")\n",
    "plt.xticks(rotation=45)\n",
    "\n",
    "plt.show()"
   ]
  },
  {
   "cell_type": "code",
   "execution_count": null,
   "id": "11ce00bb-fd17-42af-8453-c2f98ee550ce",
   "metadata": {},
   "outputs": [],
   "source": [
    "# Plotting scatter plots for each numerical column against 'NetIncome' to visualize their relationships\n",
    "df_numerical = df_ma.select_dtypes(include='number')\n",
    "\n",
    "for col in df_numerical.columns:\n",
    "    if col != \"acquisition_price_usd_billions\" and col != \"acquisition_price_usd\":\n",
    "        plt.figure(figsize=(6, 6))\n",
    "        sns.scatterplot(data=df_ma, x=col, y='acquisition_price_usd_billions', alpha=0.7)\n",
    "        sns.regplot(data=df_ma, x=col, y='acquisition_price_usd_billions', scatter=False, color='red')  # Optional trend line\n",
    "\n",
    "        plt.title(f'Scatter plot of Acquisition Price vs {col}')\n",
    "        plt.xlabel(col)\n",
    "        plt.ylabel(\"Acquisition Price (in billions USD)\")\n",
    "        plt.grid(True, linestyle=\"--\", alpha=0.5)\n",
    "        plt.show()"
   ]
  },
  {
   "cell_type": "code",
   "execution_count": null,
   "id": "0821f394-f0f0-475d-aef6-a3adc0b9597f",
   "metadata": {},
   "outputs": [],
   "source": [
    "# Plotting scatter plots for each numerical column against 'NetIncome' to visualize their relationships\n",
    "df_numerical = df_income.select_dtypes(include='number')\n",
    "\n",
    "for col in df_numerical.columns:\n",
    "    if col != \"netIncome\":  # Avoid plotting netIncome against itself\n",
    "        plt.figure(figsize=(6, 6))  \n",
    "        sns.scatterplot(data=df_income, x=col, y='netIncome', alpha=0.7)\n",
    "        sns.regplot(data=df_income, x=col, y='netIncome', scatter=False, color='red')  # Optional regression line\n",
    "\n",
    "        plt.title(f'Scatter plot of Net Income vs {col}')\n",
    "        plt.xlabel(col)\n",
    "        plt.ylabel(\"Net Income\")\n",
    "        plt.grid(True, linestyle=\"--\", alpha=0.5)\n",
    "        plt.show()"
   ]
  },
  {
   "cell_type": "code",
   "execution_count": null,
   "id": "65d674f7-e8e6-4768-a3c0-02ab84a444d1",
   "metadata": {},
   "outputs": [],
   "source": [
    "numerical_columns = df_stock.select_dtypes(include='number')\n",
    "\n",
    "\n",
    "corr=np.abs(numerical_columns.corr())\n",
    "\n",
    "#Set up mask for triangle representation\n",
    "mask = np.zeros_like(corr, dtype=bool)\n",
    "mask[np.triu_indices_from(mask)] = True\n",
    "\n",
    "# Set up the matplotlib figure\n",
    "f, ax = plt.subplots(figsize=(20, 20))\n",
    "# Generate a custom diverging colormap\n",
    "cmap = sns.diverging_palette(220, 10, as_cmap=True)\n",
    "# Draw the heatmap with the mask and correct aspect ratio\n",
    "sns.heatmap(corr, mask=mask,  vmax=1,square=True, linewidths=.5, cbar_kws={\"shrink\": .5},annot = corr)\n",
    "\n",
    "plt.show()"
   ]
  },
  {
   "cell_type": "code",
   "execution_count": null,
   "id": "ff198f5a-6e44-491b-8ee6-04ac365e0f08",
   "metadata": {},
   "outputs": [],
   "source": []
  }
 ],
 "metadata": {
  "kernelspec": {
   "display_name": "Python 3 (ipykernel)",
   "language": "python",
   "name": "python3"
  },
  "language_info": {
   "codemirror_mode": {
    "name": "ipython",
    "version": 3
   },
   "file_extension": ".py",
   "mimetype": "text/x-python",
   "name": "python",
   "nbconvert_exporter": "python",
   "pygments_lexer": "ipython3",
   "version": "3.12.2"
  }
 },
 "nbformat": 4,
 "nbformat_minor": 5
}
