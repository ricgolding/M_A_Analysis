{
 "cells": [
  {
   "cell_type": "markdown",
   "id": "a372dd13-c9a8-4edc-be74-60bd4a7214f9",
   "metadata": {},
   "source": [
    "### Hypothesis Testing"
   ]
  },
  {
   "cell_type": "code",
   "execution_count": 4,
   "id": "7ceb62ce-6b38-4321-8183-4aa2a02e2ebe",
   "metadata": {},
   "outputs": [],
   "source": [
    "import pandas as pd\n",
    "import scipy.stats as st\n",
    "import numpy as np"
   ]
  },
  {
   "cell_type": "code",
   "execution_count": 5,
   "id": "730e6a39-15c1-40f5-90c1-a0594aca3c57",
   "metadata": {},
   "outputs": [],
   "source": [
    "# Load the cleaned datasets\n",
    "df_income = pd.read_csv(\"../data/clean/income_statement_data.csv\", sep=\";\", encoding=\"utf-8\")\n",
    "df_ma = pd.read_csv(\"../data/clean/mergers_acquisitions_data.csv\", sep=\";\", encoding=\"utf-8\")\n",
    "df_profile = pd.read_csv(\"../data/clean/profile_data.csv\", sep=\";\", encoding=\"utf-8\")\n",
    "df_stock = pd.read_csv(\"../data/clean/stock_data.csv\", sep=\";\", encoding=\"utf-8\")"
   ]
  },
  {
   "cell_type": "markdown",
   "id": "9ce30ece-1c5b-4d7d-91ac-e5181efe5a10",
   "metadata": {},
   "source": [
    "# 🟢 Hypothesis Testing: ANOVA on Acquisition Prices for Large Acquisitions\n",
    "\n",
    "* **H₀:** μ_BLK_Large = μ_BRK_Large = μ_GS_Large = μ_JPM_Large = μ_STT_Large  \n",
    "  * (The mean acquisition price for large acquisitions is the same across all acquirers.)*\n",
    "\n",
    "* **H₁:** At least one of μ_BLK_Large, μ_BRK_Large, μ_GS_Large, μ_JPM_Large, or μ_STT_Large is different  \n",
    "  * (At least one acquirer has a significantly different mean acquisition price for large acquisitions.)*\n"
   ]
  },
  {
   "cell_type": "code",
   "execution_count": 8,
   "id": "949b1a61-8408-44e8-b0f9-b1bee52bffc3",
   "metadata": {},
   "outputs": [
    {
     "name": "stdout",
     "output_type": "stream",
     "text": [
      "Fail to reject the null hypothesis (H0). There is NO significant difference in acquisition prices for large acquisitions between BlackRock and its competitors (p_value: 0.33646991426786765).\n"
     ]
    }
   ],
   "source": [
    "alpha = 0.05\n",
    "\n",
    "blk_prices = df_ma[(df_ma[\"acquirer\"] == \"BlackRock\") & (df_ma[\"acquired_company_size\"] == 'Large')][\"acquisition_price_usd\"].dropna()\n",
    "brk_prices = df_ma[(df_ma[\"acquirer\"] == \"Berkshire Hathaway\") & (df_ma[\"acquired_company_size\"] == 'Large')][\"acquisition_price_usd\"].dropna()\n",
    "gs_prices = df_ma[(df_ma[\"acquirer\"] == \"Goldman Sachs\") & (df_ma[\"acquired_company_size\"] == 'Large')][\"acquisition_price_usd\"].dropna()\n",
    "jpm_prices = df_ma[(df_ma[\"acquirer\"] == \"JPMorgan Chase\") & (df_ma[\"acquired_company_size\"] == 'Large')][\"acquisition_price_usd\"].dropna()\n",
    "stt_prices = df_ma[(df_ma[\"acquirer\"] == \"State Street\") & (df_ma[\"acquired_company_size\"] == 'Large')][\"acquisition_price_usd\"].dropna()\n",
    "\n",
    "f_stat, p_value = st.f_oneway(blk_prices,brk_prices,gs_prices,jpm_prices,stt_prices)\n",
    "\n",
    "if p_value > alpha:\n",
    "    print(f\"Fail to reject the null hypothesis (H0). There is NO significant difference in acquisition prices for large acquisitions between BlackRock and its competitors (p_value: {p_value}).\")\n",
    "else:\n",
    "    print(f\"Reject null hypothesis (H0). There IS significant difference in acquisition prices for large acquisitions between BlackRock and its competitors (p_value: {p_value}).\")"
   ]
  },
  {
   "cell_type": "markdown",
   "id": "f9e88e51-a54a-42a3-9e89-557d1579020d",
   "metadata": {
    "jp-MarkdownHeadingCollapsed": true
   },
   "source": [
    "# 🟢 Hypothesis Testing: ANOVA on Acquisition Prices Across Acquirers\n",
    "\n",
    "* **H₀:** μ_BLK = μ_BRK = μ_GS = μ_JPM = μ_STT  \n",
    "  * (The mean acquisition price is the same for all acquirers in a given industry.)*\n",
    "\n",
    "* **H₁:** μ_BLK ≠ μ_BRK ≠ μ_GS ≠ μ_JPM ≠ μ_STT  \n",
    "  * (At least one acquirer has a significantly different mean acquisition price in a given industry.)*\n"
   ]
  },
  {
   "cell_type": "code",
   "execution_count": 10,
   "id": "27bb1e5a-5534-4ad2-a193-7d12a75aa025",
   "metadata": {},
   "outputs": [
    {
     "data": {
      "text/html": [
       "<div>\n",
       "<style scoped>\n",
       "    .dataframe tbody tr th:only-of-type {\n",
       "        vertical-align: middle;\n",
       "    }\n",
       "\n",
       "    .dataframe tbody tr th {\n",
       "        vertical-align: top;\n",
       "    }\n",
       "\n",
       "    .dataframe thead th {\n",
       "        text-align: right;\n",
       "    }\n",
       "</style>\n",
       "<table border=\"1\" class=\"dataframe\">\n",
       "  <thead>\n",
       "    <tr style=\"text-align: right;\">\n",
       "      <th></th>\n",
       "      <th>Industry</th>\n",
       "      <th>F-Statistic</th>\n",
       "      <th>P-Value</th>\n",
       "      <th>Conclusion</th>\n",
       "    </tr>\n",
       "  </thead>\n",
       "  <tbody>\n",
       "    <tr>\n",
       "      <th>1</th>\n",
       "      <td>Energy</td>\n",
       "      <td>14.678975</td>\n",
       "      <td>0.06187</td>\n",
       "      <td>Fail to reject H0</td>\n",
       "    </tr>\n",
       "    <tr>\n",
       "      <th>4</th>\n",
       "      <td>Investment &amp; Financial Services</td>\n",
       "      <td>1.507540</td>\n",
       "      <td>0.307366</td>\n",
       "      <td>Fail to reject H0</td>\n",
       "    </tr>\n",
       "    <tr>\n",
       "      <th>5</th>\n",
       "      <td>Manufacturing</td>\n",
       "      <td>0.817671</td>\n",
       "      <td>0.432517</td>\n",
       "      <td>Fail to reject H0</td>\n",
       "    </tr>\n",
       "  </tbody>\n",
       "</table>\n",
       "</div>"
      ],
      "text/plain": [
       "                          Industry  F-Statistic   P-Value         Conclusion\n",
       "1                           Energy    14.678975   0.06187  Fail to reject H0\n",
       "4  Investment & Financial Services     1.507540  0.307366  Fail to reject H0\n",
       "5                    Manufacturing     0.817671  0.432517  Fail to reject H0"
      ]
     },
     "metadata": {},
     "output_type": "display_data"
    }
   ],
   "source": [
    "industry_counts = df_ma.groupby(\"industry\")[\"acquirer\"].nunique()\n",
    "shared_industries = industry_counts[industry_counts > 1].index \n",
    "\n",
    "# Store results in a dataframe\n",
    "anova_results = []\n",
    "\n",
    "# Perform ANOVA test for each shared industry\n",
    "for industry in shared_industries:\n",
    "    industry_data = df_ma[df_ma[\"industry\"] == industry]\n",
    "    acquirer_groups = [group[\"acquisition_price_usd\"].dropna() for _, group in industry_data.groupby(\"acquirer\")]\n",
    "\n",
    "    # Only run ANOVA if there are at least two groups with more than one data point\n",
    "    if len(acquirer_groups) > 1 and all(len(g) > 1 for g in acquirer_groups):\n",
    "        f_stat, p_value = st.f_oneway(*acquirer_groups)\n",
    "        conclusion = \"Reject H0\" if p_value < 0.05 else \"Fail to reject H0\"\n",
    "    else:\n",
    "        f_stat, p_value, conclusion = None, \"Not enough data\", \"Not enough data\"\n",
    "\n",
    "    # Append results\n",
    "    anova_results.append({\"Industry\": industry, \"F-Statistic\": f_stat, \"P-Value\": p_value, \"Conclusion\": conclusion})\n",
    "\n",
    "# Convert results to DataFrame\n",
    "df_anova_results = pd.DataFrame(anova_results).dropna()\n",
    "\n",
    "display(df_anova_results)"
   ]
  },
  {
   "cell_type": "markdown",
   "id": "dfb9e892-600f-4f6d-8dfe-33c6f83e8e8d",
   "metadata": {
    "jp-MarkdownHeadingCollapsed": true
   },
   "source": [
    "# 🟢 Hypothesis Testing: Chi2 Test on Acquisition of Mature Companies by BlackRock (Chi2 Test)\n",
    "\n",
    "* **H₀:**  μ_BLK_matured = μ_BRK_matured = μ_GS_matured = μ_JPM_matured = μ_STT_matured\n",
    "\n",
    "    * The proportion of mature companies acquired by BlackRock is the same as the expected proportion.\n",
    "\n",
    "* **H₁:** μ_BLK_not_matured ≠ μ_BRK_not_matured ≠ μ_GS_not_matured ≠ μ_JPM_not_matured ≠ μ_STT_not_matured \n",
    "\n",
    "    * The proportion of mature companies acquired by BlackRock is higher than the expected proportion.\n"
   ]
  },
  {
   "cell_type": "code",
   "execution_count": 12,
   "id": "764d97cf-1180-4bb5-b35e-36faac7b4ec6",
   "metadata": {},
   "outputs": [
    {
     "data": {
      "text/html": [
       "<div>\n",
       "<style scoped>\n",
       "    .dataframe tbody tr th:only-of-type {\n",
       "        vertical-align: middle;\n",
       "    }\n",
       "\n",
       "    .dataframe tbody tr th {\n",
       "        vertical-align: top;\n",
       "    }\n",
       "\n",
       "    .dataframe thead th {\n",
       "        text-align: right;\n",
       "    }\n",
       "</style>\n",
       "<table border=\"1\" class=\"dataframe\">\n",
       "  <thead>\n",
       "    <tr style=\"text-align: right;\">\n",
       "      <th></th>\n",
       "      <th>Competitor</th>\n",
       "      <th>Chi2 Statistic</th>\n",
       "      <th>P-Value</th>\n",
       "      <th>Conclusion</th>\n",
       "    </tr>\n",
       "  </thead>\n",
       "  <tbody>\n",
       "    <tr>\n",
       "      <th>0</th>\n",
       "      <td>Goldman Sachs</td>\n",
       "      <td>0.000000</td>\n",
       "      <td>1.000000</td>\n",
       "      <td>Fail to reject H0</td>\n",
       "    </tr>\n",
       "    <tr>\n",
       "      <th>1</th>\n",
       "      <td>Berkshire Hathaway</td>\n",
       "      <td>0.605021</td>\n",
       "      <td>0.436669</td>\n",
       "      <td>Fail to reject H0</td>\n",
       "    </tr>\n",
       "    <tr>\n",
       "      <th>2</th>\n",
       "      <td>JPMorgan Chase</td>\n",
       "      <td>0.000000</td>\n",
       "      <td>1.000000</td>\n",
       "      <td>Fail to reject H0</td>\n",
       "    </tr>\n",
       "    <tr>\n",
       "      <th>3</th>\n",
       "      <td>State Street</td>\n",
       "      <td>0.000000</td>\n",
       "      <td>1.000000</td>\n",
       "      <td>Fail to reject H0</td>\n",
       "    </tr>\n",
       "  </tbody>\n",
       "</table>\n",
       "</div>"
      ],
      "text/plain": [
       "           Competitor  Chi2 Statistic   P-Value         Conclusion\n",
       "0       Goldman Sachs        0.000000  1.000000  Fail to reject H0\n",
       "1  Berkshire Hathaway        0.605021  0.436669  Fail to reject H0\n",
       "2      JPMorgan Chase        0.000000  1.000000  Fail to reject H0\n",
       "3        State Street        0.000000  1.000000  Fail to reject H0"
      ]
     },
     "metadata": {},
     "output_type": "display_data"
    }
   ],
   "source": [
    "chi2_results = []\n",
    "\n",
    "# Get list of competitors (excluding BlackRock)\n",
    "competitors = df_ma[\"acquirer\"].unique()\n",
    "competitors = [comp for comp in competitors if comp != \"BlackRock\"]\n",
    "\n",
    "# Loop through each competitor to perform Chi-Square test\n",
    "for competitor in competitors:\n",
    "    blackrock_data = df_ma[df_ma[\"acquirer\"] == \"BlackRock\"][\"matured\"].value_counts()\n",
    "    competitor_data = df_ma[df_ma[\"acquirer\"] == competitor][\"matured\"].value_counts()\n",
    "\n",
    "    # Create contingency table\n",
    "    contingency_table = pd.DataFrame({\n",
    "        \"BlackRock\": blackrock_data,\n",
    "        competitor: competitor_data\n",
    "    }).fillna(0).astype(int).T.values \n",
    "\n",
    "    if contingency_table.shape == (2, 2):\n",
    "        chi2_stat, p_value, dof, expected = st.chi2_contingency(contingency_table)\n",
    "\n",
    "        # Determine hypothesis conclusion\n",
    "        conclusion = \"Reject H0\" if p_value < alpha else \"Fail to reject H0\"\n",
    "\n",
    "        # Store results\n",
    "        chi2_results.append({\n",
    "            \"Competitor\": competitor,\n",
    "            \"Chi2 Statistic\": chi2_stat,\n",
    "            \"P-Value\": p_value,\n",
    "            \"Conclusion\": conclusion\n",
    "        })\n",
    "    else:\n",
    "        chi2_results.append({\n",
    "            \"Competitor\": competitor,\n",
    "            \"Chi2 Statistic\": None,\n",
    "            \"P-Value\": \"Not enough data\",\n",
    "            \"Conclusion\": \"Not enough data\"\n",
    "        })\n",
    "\n",
    "df_chi2_results = pd.DataFrame(chi2_results).dropna()\n",
    "display(df_chi2_results)"
   ]
  },
  {
   "cell_type": "markdown",
   "id": "f80e95be-f119-451c-8e95-76a96014f5a7",
   "metadata": {
    "jp-MarkdownHeadingCollapsed": true
   },
   "source": [
    "# 🟢 Hypothesis Testing: Industry-Level T-Test on Acquisition Prices\n",
    "\n",
    "* **H₀:** μ_BLK_Industry = μ_BRK_Industry  \n",
    "  *(The mean acquisition price in a given industry is the same for BlackRock and Berkshire Hathaway.)*\n",
    "\n",
    "* **H₁:** μ_BLK_Industry < μ_BRK_Industry  \n",
    "  *(BlackRock acquires companies at a lower price than Berkshire Hathaway in a given industry.)*"
   ]
  },
  {
   "cell_type": "code",
   "execution_count": 14,
   "id": "46254ec4-d960-4304-b497-1aef78a31f99",
   "metadata": {},
   "outputs": [
    {
     "data": {
      "text/html": [
       "<div>\n",
       "<style scoped>\n",
       "    .dataframe tbody tr th:only-of-type {\n",
       "        vertical-align: middle;\n",
       "    }\n",
       "\n",
       "    .dataframe tbody tr th {\n",
       "        vertical-align: top;\n",
       "    }\n",
       "\n",
       "    .dataframe thead th {\n",
       "        text-align: right;\n",
       "    }\n",
       "</style>\n",
       "<table border=\"1\" class=\"dataframe\">\n",
       "  <thead>\n",
       "    <tr style=\"text-align: right;\">\n",
       "      <th></th>\n",
       "      <th>Industry</th>\n",
       "      <th>T-Statistic</th>\n",
       "      <th>P-Value</th>\n",
       "      <th>Conclusion</th>\n",
       "    </tr>\n",
       "  </thead>\n",
       "  <tbody>\n",
       "    <tr>\n",
       "      <th>0</th>\n",
       "      <td>Energy</td>\n",
       "      <td>-3.831315</td>\n",
       "      <td>0.081088</td>\n",
       "      <td>Fail to reject H0</td>\n",
       "    </tr>\n",
       "    <tr>\n",
       "      <th>3</th>\n",
       "      <td>Technology &amp; Software</td>\n",
       "      <td>-3.408245</td>\n",
       "      <td>0.085486</td>\n",
       "      <td>Fail to reject H0</td>\n",
       "    </tr>\n",
       "  </tbody>\n",
       "</table>\n",
       "</div>"
      ],
      "text/plain": [
       "                Industry  T-Statistic   P-Value         Conclusion\n",
       "0                 Energy    -3.831315  0.081088  Fail to reject H0\n",
       "3  Technology & Software    -3.408245  0.085486  Fail to reject H0"
      ]
     },
     "metadata": {},
     "output_type": "display_data"
    }
   ],
   "source": [
    "# Store results in a list\n",
    "t_test_results = []\n",
    "\n",
    "# Identify shared industries where both BlackRock and Berkshire Hathaway made acquisitions\n",
    "blk_industries = set(df_ma[df_ma['acquirer'] == 'BlackRock']['industry'].dropna().unique())\n",
    "brk_industries = set(df_ma[df_ma['acquirer'] == 'Berkshire Hathaway']['industry'].dropna().unique())\n",
    "\n",
    "shared_industries = blk_industries.intersection(brk_industries)\n",
    "\n",
    "# Filter dataset to include only shared industries\n",
    "df_shared = df_ma[df_ma['industry'].isin(shared_industries)]\n",
    "\n",
    "# Loop through each shared industry and perform a T-Test\n",
    "for industry in shared_industries:\n",
    "    blk_prices = df_shared[(df_shared[\"acquirer\"] == \"BlackRock\") & (df_shared[\"industry\"] == industry)][\"acquisition_price_usd\"].dropna()\n",
    "    brk_prices = df_shared[(df_shared[\"acquirer\"] == \"Berkshire Hathaway\") & (df_shared[\"industry\"] == industry)][\"acquisition_price_usd\"].dropna()\n",
    "\n",
    "    if len(blk_prices) > 1 and len(brk_prices) > 1:\n",
    "        t_stat, p_value = st.ttest_ind(blk_prices, brk_prices, equal_var=False, alternative=\"less\")\n",
    "\n",
    "        conclusion = \"Reject H0\" if p_value < alpha else \"Fail to reject H0\"\n",
    "\n",
    "        # Store results\n",
    "        t_test_results.append({\n",
    "            \"Industry\": industry,\n",
    "            \"T-Statistic\": t_stat,\n",
    "            \"P-Value\": p_value,\n",
    "            \"Conclusion\": conclusion\n",
    "        })\n",
    "    else:\n",
    "        t_test_results.append({\n",
    "            \"Industry\": industry,\n",
    "            \"T-Statistic\": None,\n",
    "            \"P-Value\": \"Not enough data\",\n",
    "            \"Conclusion\": \"Not enough data\"\n",
    "        })\n",
    "\n",
    "# Convert results to DataFrame and display\n",
    "df_t_test_results = pd.DataFrame(t_test_results).dropna()\n",
    "\n",
    "display(df_t_test_results)"
   ]
  },
  {
   "cell_type": "code",
   "execution_count": null,
   "id": "83dbb8cd-f0cd-499f-a07f-8a34c8c79636",
   "metadata": {},
   "outputs": [],
   "source": []
  }
 ],
 "metadata": {
  "kernelspec": {
   "display_name": "Python 3 (ipykernel)",
   "language": "python",
   "name": "python3"
  },
  "language_info": {
   "codemirror_mode": {
    "name": "ipython",
    "version": 3
   },
   "file_extension": ".py",
   "mimetype": "text/x-python",
   "name": "python",
   "nbconvert_exporter": "python",
   "pygments_lexer": "ipython3",
   "version": "3.12.2"
  }
 },
 "nbformat": 4,
 "nbformat_minor": 5
}
