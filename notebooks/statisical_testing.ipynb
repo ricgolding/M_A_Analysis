{
 "cells": [
  {
   "cell_type": "markdown",
   "id": "a372dd13-c9a8-4edc-be74-60bd4a7214f9",
   "metadata": {},
   "source": [
    "### Hypothesis Testing"
   ]
  },
  {
   "cell_type": "code",
   "execution_count": null,
   "id": "7ceb62ce-6b38-4321-8183-4aa2a02e2ebe",
   "metadata": {},
   "outputs": [],
   "source": [
    "import pandas as pd\n",
    "import scipy.stats as st\n",
    "import numpy as np"
   ]
  },
  {
   "cell_type": "code",
   "execution_count": null,
   "id": "730e6a39-15c1-40f5-90c1-a0594aca3c57",
   "metadata": {},
   "outputs": [],
   "source": [
    "# Load the cleaned datasets\n",
    "df_income = pd.read_csv(\"../data/clean/income_statement_data.csv\", sep=\";\", encoding=\"utf-8\")\n",
    "df_ma = pd.read_csv(\"../data/clean/mergers_acquisitions_data.csv\", sep=\";\", encoding=\"utf-8\")\n",
    "df_profile = pd.read_csv(\"../data/clean/profile_data.csv\", sep=\";\", encoding=\"utf-8\")\n",
    "df_stock = pd.read_csv(\"../data/clean/stock_data.csv\", sep=\";\", encoding=\"utf-8\")"
   ]
  },
  {
   "cell_type": "markdown",
   "id": "9ce30ece-1c5b-4d7d-91ac-e5181efe5a10",
   "metadata": {},
   "source": [
    "# 🟢 Hypothesis Testing: ANOVA on Acquisition Prices for Large Acquisitions\n",
    "\n",
    "* **H₀:** μ_BLK_Large = μ_BRK_Large = μ_GS_Large = μ_JPM_Large = μ_STT_Large  \n",
    "  * (The mean acquisition price for large acquisitions is the same across all acquirers.)*\n",
    "\n",
    "* **H₁:** At least one of μ_BLK_Large, μ_BRK_Large, μ_GS_Large, μ_JPM_Large, or μ_STT_Large is different  \n",
    "  * (At least one acquirer has a significantly different mean acquisition price for large acquisitions.)*\n"
   ]
  },
  {
   "cell_type": "code",
   "execution_count": null,
   "id": "949b1a61-8408-44e8-b0f9-b1bee52bffc3",
   "metadata": {},
   "outputs": [],
   "source": [
    "alpha = 0.05\n",
    "\n",
    "acquirers = df_ma['acquirer'].unique()\n",
    "\n",
    "prices_dict = {acq: df_ma[(df_ma[\"acquirer\"] == acq) & \n",
    "                          (df_ma[\"acquired_company_size\"] == 'Large')][\"acquisition_price_usd_billions\"].dropna()\n",
    "               for acq in acquirers}\n",
    "\n",
    "f_stat, p_value = st.f_oneway(*prices_dict.values())\n",
    "\n",
    "results_df = pd.DataFrame({\n",
    "    'Acquirer': acquirers ,\n",
    "    'Count': [len(prices) for prices in prices_dict.values()],\n",
    "    'Mean in Billions (USD)': [prices.mean().round(2) for prices in prices_dict.values()],\n",
    "    'p_value':p_value,\n",
    "    'Conclusion': 'Fail to Reject H0 (no significant difference)' if p_value > alpha else 'Reject H0 (significant difference)'\n",
    "})\n",
    "\n",
    "display(results_df)"
   ]
  },
  {
   "cell_type": "markdown",
   "id": "f9e88e51-a54a-42a3-9e89-557d1579020d",
   "metadata": {},
   "source": [
    "# 🟢 Hypothesis Testing: ANOVA on Acquisition Prices Across Acquirers\n",
    "\n",
    "* **H₀:** μ_BLK = μ_BRK = μ_GS = μ_JPM = μ_STT  \n",
    "  * (The mean acquisition price is the same for all acquirers in a given industry.)*\n",
    "\n",
    "* **H₁:** μ_BLK ≠ μ_BRK ≠ μ_GS ≠ μ_JPM ≠ μ_STT  \n",
    "  * (At least one acquirer has a significantly different mean acquisition price in a given industry.)*\n"
   ]
  },
  {
   "cell_type": "code",
   "execution_count": null,
   "id": "27bb1e5a-5534-4ad2-a193-7d12a75aa025",
   "metadata": {},
   "outputs": [],
   "source": [
    "# Get industries that are shared by more than one acquirer\n",
    "industry_counts = df_ma.groupby(\"industry\")[\"acquirer\"].nunique()\n",
    "shared_industries = industry_counts[industry_counts > 1].index \n",
    "\n",
    "anova_results = []\n",
    "\n",
    "# Loop through each shared industry and perform calculations\n",
    "for industry in shared_industries:\n",
    "    industry_data = df_ma[df_ma[\"industry\"] == industry]\n",
    "    # Group acquisition prices by acquirer for ANOVA test\n",
    "    acquirer_groups = [group[\"acquisition_price_usd_billions\"]\n",
    "                       for _, group in industry_data.groupby(\"acquirer\")]\n",
    "    \n",
    "    # Calculate overall count and mean acquisition price for the industry\n",
    "    count = len(industry_data[\"acquisition_price_usd_billions\"])\n",
    "    mean_price = industry_data[\"acquisition_price_usd_billions\"].mean().round(2)\n",
    "    \n",
    "    # Only run ANOVA if there are at least two groups with more than one data point\n",
    "    if len(acquirer_groups) > 1 and all(len(g) > 1 for g in acquirer_groups):\n",
    "        _, p_value = st.f_oneway(*acquirer_groups)\n",
    "        conclusion = \"Reject H0 (significant difference)\" if p_value < alpha else \"Fail to reject H0 (no significant difference)\"\n",
    "    else:\n",
    "        p_value, conclusion = \"Not enough data\", \"Not enough data\"\n",
    "    \n",
    "    # Append results without f-statistic\n",
    "    anova_results.append({\n",
    "        \"Industry\": industry,\n",
    "        \"Count\": count,\n",
    "        \"Mean in Billions (USD)\": mean_price,\n",
    "        \"p_value\": p_value,\n",
    "        \"Conclusion\": conclusion\n",
    "    })\n",
    "\n",
    "# Convert results to DataFrame and drop rows with not enough data (optional)\n",
    "df_anova_results = pd.DataFrame(anova_results).dropna(subset=[\"p_value\"])\n",
    "df_anova_results = df_anova_results[df_anova_results['p_value'] != 'Not enough data']\n",
    "\n",
    "# Display the DataFrame\n",
    "display(df_anova_results)"
   ]
  },
  {
   "cell_type": "markdown",
   "id": "dfb9e892-600f-4f6d-8dfe-33c6f83e8e8d",
   "metadata": {},
   "source": [
    "# 🟢 Hypothesis Testing: Chi2 Test on Acquisition of Mature Companies by BlackRock (Chi2 Test)\n",
    "\n",
    "* **H₀:**  μ_BLK_matured = μ_BRK_matured = μ_GS_matured = μ_JPM_matured = μ_STT_matured\n",
    "\n",
    "    * The proportion of mature companies acquired by BlackRock is the same as the expected proportion.\n",
    "\n",
    "* **H₁:** μ_BLK_not_matured ≠ μ_BRK_not_matured ≠ μ_GS_not_matured ≠ μ_JPM_not_matured ≠ μ_STT_not_matured \n",
    "\n",
    "    * The proportion of mature companies acquired by BlackRock is higher than the expected proportion.\n"
   ]
  },
  {
   "cell_type": "code",
   "execution_count": null,
   "id": "764d97cf-1180-4bb5-b35e-36faac7b4ec6",
   "metadata": {},
   "outputs": [],
   "source": [
    "chi2_results = []\n",
    "\n",
    "# Get list of competitors (excluding BlackRock)\n",
    "competitors = df_ma[\"acquirer\"].unique()\n",
    "competitors = [comp for comp in competitors if comp != \"BlackRock\"]\n",
    "\n",
    "# Loop through each competitor to perform Chi-Square test\n",
    "for competitor in competitors:\n",
    "    blackrock_data = df_ma[df_ma[\"acquirer\"] == \"BlackRock\"][\"matured\"].value_counts()\n",
    "    competitor_data = df_ma[df_ma[\"acquirer\"] == competitor][\"matured\"].value_counts()\n",
    "\n",
    "    # Create contingency table\n",
    "    contingency_table = pd.DataFrame({\n",
    "        \"BlackRock\": blackrock_data,\n",
    "        competitor: competitor_data\n",
    "    }).fillna(0).astype(int).T.values \n",
    "\n",
    "    if contingency_table.shape == (2, 2):\n",
    "        chi2_stat, p_value, dof, expected = st.chi2_contingency(contingency_table)\n",
    "\n",
    "        # Determine hypothesis conclusion\n",
    "        conclusion = \"Reject H0\" if p_value < alpha else \"Fail to reject H0\"\n",
    "\n",
    "        # Store results\n",
    "        chi2_results.append({\n",
    "            \"Competitor\": competitor,\n",
    "            \"p_value\": p_value,\n",
    "            \"Conclusion\": conclusion,\n",
    "        })\n",
    "    else:\n",
    "        chi2_results.append({\n",
    "            \"Competitor\": competitor,\n",
    "            \"p_value\": \"Not enough data\",\n",
    "            \"Conclusion\": \"Not enough data\"\n",
    "        })\n",
    "\n",
    "df_chi2_results = pd.DataFrame(chi2_results).dropna()\n",
    "display(df_chi2_results)"
   ]
  },
  {
   "cell_type": "markdown",
   "id": "f80e95be-f119-451c-8e95-76a96014f5a7",
   "metadata": {},
   "source": [
    "# 🟢 Hypothesis Testing: Industry-Level T-Test on Acquisition Prices\n",
    "\n",
    "* **H₀:** μ_BLK_Industry >= μ_BRK_Industry  \n",
    "  *(The mean acquisition price in a given industry is the more for BlackRock than for Berkshire Hathaway.)*\n",
    "\n",
    "* **H₁:** μ_BLK_Industry < μ_BRK_Industry  \n",
    "  *(BlackRock acquires companies at a lower price than Berkshire Hathaway in a given industry.)*"
   ]
  },
  {
   "cell_type": "code",
   "execution_count": null,
   "id": "46254ec4-d960-4304-b497-1aef78a31f99",
   "metadata": {},
   "outputs": [],
   "source": [
    "# Store results in a list\n",
    "t_test_results = []\n",
    "\n",
    "# Identify shared industries where both BlackRock and Berkshire Hathaway made acquisitions\n",
    "blk_industries = set(df_ma[df_ma['acquirer'] == 'BlackRock']['industry'].dropna().unique())\n",
    "brk_industries = set(df_ma[df_ma['acquirer'] == 'Berkshire Hathaway']['industry'].dropna().unique())\n",
    "\n",
    "shared_industries = blk_industries.intersection(brk_industries)\n",
    "\n",
    "# Filter dataset to include only shared industries\n",
    "df_shared = df_ma[df_ma['industry'].isin(shared_industries)]\n",
    "\n",
    "# Loop through each shared industry and perform a T-Test\n",
    "for industry in shared_industries:\n",
    "    blk_prices = df_shared[(df_shared[\"acquirer\"] == \"BlackRock\") & (df_shared[\"industry\"] == industry)][\"acquisition_price_usd_billions\"].dropna()\n",
    "    brk_prices = df_shared[(df_shared[\"acquirer\"] == \"Berkshire Hathaway\") & (df_shared[\"industry\"] == industry)][\"acquisition_price_usd_billions\"].dropna()\n",
    "\n",
    "    if len(blk_prices) > 1 and len(brk_prices) > 1:\n",
    "        t_stat, p_value = st.ttest_ind(blk_prices, brk_prices, equal_var=False, alternative=\"less\")\n",
    "\n",
    "        conclusion = \"Reject H0\" if p_value < alpha else \"Fail to reject H0\"\n",
    "\n",
    "        # Store results\n",
    "        t_test_results.append({\n",
    "            \"Industry\": industry,\n",
    "            'BLK Mean Price': blk_prices.mean().round(2),\n",
    "            'BRK Mean Price': brk_prices.mean().round(2),\n",
    "            \"p_value\": p_value,\n",
    "            \"Conclusion\": conclusion\n",
    "        })\n",
    "    else:\n",
    "        t_test_results.append({\n",
    "            \"Industry\": industry,\n",
    "            \"p_value\": \"Not enough data\",\n",
    "            \"Conclusion\": \"Not enough data\"\n",
    "        })\n",
    "\n",
    "# Convert results to DataFrame and display\n",
    "df_t_test_results = pd.DataFrame(t_test_results).dropna()\n",
    "\n",
    "display(df_t_test_results)"
   ]
  },
  {
   "cell_type": "code",
   "execution_count": null,
   "id": "88040695-df8c-4ed8-8e51-8dc4ec62bc53",
   "metadata": {},
   "outputs": [],
   "source": []
  }
 ],
 "metadata": {
  "kernelspec": {
   "display_name": "Python 3 (ipykernel)",
   "language": "python",
   "name": "python3"
  },
  "language_info": {
   "codemirror_mode": {
    "name": "ipython",
    "version": 3
   },
   "file_extension": ".py",
   "mimetype": "text/x-python",
   "name": "python",
   "nbconvert_exporter": "python",
   "pygments_lexer": "ipython3",
   "version": "3.12.2"
  }
 },
 "nbformat": 4,
 "nbformat_minor": 5
}
