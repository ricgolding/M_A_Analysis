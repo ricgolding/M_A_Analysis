{
 "cells": [
  {
   "cell_type": "code",
   "execution_count": null,
   "id": "20d96de6-4426-4a31-9d68-42aaaf0d172b",
   "metadata": {},
   "outputs": [],
   "source": [
    "import sql_functions as sql  # SQL functions from .py file\n",
    "import getpass  # For securely entering passwords\n",
    "import sqlalchemy  # SQL toolkit\n",
    "from sqlalchemy import create_engine  # Database connection function\n",
    "import pandas as pd\n",
    "import streamlit as st"
   ]
  },
  {
   "cell_type": "markdown",
   "id": "ba1c2839-2282-462f-b051-480d47f4ee99",
   "metadata": {},
   "source": [
    "### Set Up the DataBase connection"
   ]
  },
  {
   "cell_type": "code",
   "execution_count": null,
   "id": "98ea32f8-5241-4b61-95d5-bac664119029",
   "metadata": {},
   "outputs": [],
   "source": [
    "engine = sql.sql_setup()"
   ]
  },
  {
   "cell_type": "markdown",
   "id": "df2f2c07-220d-48f2-9277-0d55249f24a8",
   "metadata": {},
   "source": [
    "### Run From the Pre-Built Analysis from the SQL DataBase"
   ]
  },
  {
   "cell_type": "code",
   "execution_count": null,
   "id": "9ebd4902-6c5a-47a4-a184-e339bc6c14fd",
   "metadata": {},
   "outputs": [],
   "source": [
    "sql.run_analysis(engine)"
   ]
  },
  {
   "cell_type": "markdown",
   "id": "2c21c5de-bd86-49df-a484-bd88500c082e",
   "metadata": {},
   "source": [
    "### Insert data into one of the database tables interactively"
   ]
  },
  {
   "cell_type": "code",
   "execution_count": null,
   "id": "df53fb82-3f77-473d-93c0-e7bc87840e9d",
   "metadata": {},
   "outputs": [],
   "source": [
    "sql.insert_data(engine)"
   ]
  },
  {
   "cell_type": "markdown",
   "id": "ce35a29e-5de7-4756-8b3f-abec1b3815db",
   "metadata": {},
   "source": [
    "### Delete entries from the database tables interactively"
   ]
  },
  {
   "cell_type": "code",
   "execution_count": null,
   "id": "ba35c59b-a6d1-48f9-84a6-3c6b3539c439",
   "metadata": {},
   "outputs": [],
   "source": [
    "sql.delete_entry(engine)"
   ]
  }
 ],
 "metadata": {
  "kernelspec": {
   "display_name": "Python 3 (ipykernel)",
   "language": "python",
   "name": "python3"
  },
  "language_info": {
   "codemirror_mode": {
    "name": "ipython",
    "version": 3
   },
   "file_extension": ".py",
   "mimetype": "text/x-python",
   "name": "python",
   "nbconvert_exporter": "python",
   "pygments_lexer": "ipython3",
   "version": "3.12.2"
  }
 },
 "nbformat": 4,
 "nbformat_minor": 5
}
